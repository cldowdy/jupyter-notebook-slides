{
 "cells": [
  {
   "cell_type": "markdown",
   "metadata": {
    "slideshow": {
     "slide_type": "slide"
    }
   },
   "source": [
    "# Akamai Survival Analysis \n",
    "Caleb Lance Matthew Nicole"
   ]
  },
  {
   "cell_type": "markdown",
   "metadata": {
    "slideshow": {
     "slide_type": "slide"
    }
   },
   "source": [
    "## Introduction\n"
   ]
  },
  {
   "cell_type": "markdown",
   "metadata": {
    "slideshow": {
     "slide_type": "slide"
    }
   },
   "source": [
    "![Network Diagram](networkDiagram.png)"
   ]
  },
  {
   "cell_type": "markdown",
   "metadata": {
    "slideshow": {
     "slide_type": "slide"
    }
   },
   "source": [
    "## Meta Data"
   ]
  },
  {
   "cell_type": "markdown",
   "metadata": {
    "slideshow": {
     "slide_type": "fragment"
    }
   },
   "source": [
    "### Range Of Data\n",
    "Sunday April 10, 21:20:00 EDT 2016 0 Friday April 22, 11:45:00 EDT 2016"
   ]
  },
  {
   "cell_type": "markdown",
   "metadata": {
    "slideshow": {
     "slide_type": "fragment"
    }
   },
   "source": [
    "### Sampling Frequency\n",
    "5 minute intervals aggregated"
   ]
  },
  {
   "cell_type": "markdown",
   "metadata": {
    "slideshow": {
     "slide_type": "fragment"
    }
   },
   "source": [
    "### Total Number of Files\n",
    "5225 Files -- 81 G total \n",
    "- x servers \n",
    "- y racks"
   ]
  },
  {
   "cell_type": "markdown",
   "metadata": {
    "slideshow": {
     "slide_type": "fragment"
    }
   },
   "source": [
    "### File Types\n",
    "\n",
    "- `content`\n",
    "- `diskload`\n",
    "- `load`"
   ]
  },
  {
   "cell_type": "markdown",
   "metadata": {
    "slideshow": {
     "slide_type": "notes"
    }
   },
   "source": [
    "`Content`: Perhaps the most cryptic of the file types... Metrics describe the type of media(videos, pictures, livestream, etc.) being served at a given time on a given machine.\n",
    "\n",
    "`Diskload`: Metrics pretain to disk I/O\n",
    "\n",
    "`Load`: Metrics pretain to the stress-level of a given machine at a given point in time. "
   ]
  },
  {
   "cell_type": "markdown",
   "metadata": {
    "slideshow": {
     "slide_type": "subslide"
    }
   },
   "source": [
    "## Variables of Interest:\n",
    "- `rolled`: server process rolled (died) in last 60 seconds\n",
    "- `flits`: combination of cpu, disk\n",
    "- `flitcap`: normalizing factor for flits\n",
    "- `cpu`: average cpu percentage use in last 60 seconds\n",
    "- `ip`: IP address of the Akamai server that is serving the content\n",
    "- `conns`: number of user connections that the server is handling\n",
    "- `rack`:\n",
    "- `model`: "
   ]
  },
  {
   "cell_type": "markdown",
   "metadata": {
    "slideshow": {
     "slide_type": "slide"
    }
   },
   "source": [
    "## Normalized Roll Counts of Servers\n",
    "\n",
    "- *Roll Count*: Number of time points that \"rolled\"\n",
    "- Raw roll counts would over-represent servers that have more time points in the data\n",
    "- Thus, we normalize each roll count by total number of time points for each server"
   ]
  },
  {
   "cell_type": "markdown",
   "metadata": {},
   "source": [
    "## Normalized Roll Counts of Servers\n",
    "![](tableServerRollCounts.PNG)\n",
    "![](histServerRollCounts.png)"
   ]
  },
  {
   "cell_type": "markdown",
   "metadata": {
    "slideshow": {
     "slide_type": "slide"
    }
   },
   "source": [
    "![](overall_content.png)"
   ]
  },
  {
   "cell_type": "markdown",
   "metadata": {},
   "source": [
    "![](Difference_content.png)"
   ]
  },
  {
   "cell_type": "markdown",
   "metadata": {
    "slideshow": {
     "slide_type": "slide"
    }
   },
   "source": [
    "## Survival Analysis\n",
    "- Identify features that contribute to hardware failure\n",
    "- Indentify hardware that requires the least amount of downtime\n",
    "- Anticipate outages for a rack during the year"
   ]
  },
  {
   "cell_type": "markdown",
   "metadata": {
    "slideshow": {
     "slide_type": "notes"
    }
   },
   "source": [
    "- The analysis of time duration until one or more events happen is the central focus of Survival Analysis \n",
    "- Surviving can be assigned many different definitions depending on the context of your problem.  Here survival implies that given machine went the entire duration of our study without rolling. The rational for defining survival as such relies on the assumption that when machines roll once they are more likely to roll several times after. "
   ]
  },
  {
   "cell_type": "markdown",
   "metadata": {
    "slideshow": {
     "slide_type": "slide"
    }
   },
   "source": [
    "## Formulation\n",
    "\n"
   ]
  },
  {
   "cell_type": "markdown",
   "metadata": {
    "slideshow": {
     "slide_type": "fragment"
    }
   },
   "source": [
    "**Survival Function**: $S(t)$ of an individual is the probability of *surviving* until at least time $t$\n",
    "\n",
    "$$ S(t) = P(T>t) $$\n",
    "\n",
    "- $T$: time of event"
   ]
  },
  {
   "cell_type": "markdown",
   "metadata": {
    "slideshow": {
     "slide_type": "notes"
    }
   },
   "source": [
    "- It's not given that our event $T$ will occur within our study period--this is known as **right-censoring**"
   ]
  },
  {
   "cell_type": "markdown",
   "metadata": {
    "slideshow": {
     "slide_type": "fragment"
    }
   },
   "source": [
    "**Hazard Function**: $\\lambda(t)$ is the probability that the event $T$ occurs in the next instant $t + \\delta t$, given that an individual has reached time $t$\n",
    "\n",
    "$$ \\lambda(t) = \\lim_{\\delta t \\rightarrow  0} \\frac{P(t\\leq T < t+\\delta t | T > t)}{\\delta t} $$ "
   ]
  },
  {
   "cell_type": "markdown",
   "metadata": {
    "slideshow": {
     "slide_type": "subslide"
    }
   },
   "source": [
    "We can relate the hazard function of an individual to their specific survival function:\n",
    "\n",
    "$$ S(t) = e^{-\\int_{0}^{t} \\lambda(u)du} = e^{-\\sum \\Lambda_{i}(t)} $$\n"
   ]
  },
  {
   "cell_type": "markdown",
   "metadata": {
    "slideshow": {
     "slide_type": "notes"
    }
   },
   "source": [
    "- This approach leads us to survival regression--we want to know the relative impact of a servers hardware, load profile, and number of connections upon the first time it crashes. "
   ]
  },
  {
   "cell_type": "markdown",
   "metadata": {
    "slideshow": {
     "slide_type": "slide"
    }
   },
   "source": [
    "### Cox Proportional Hazards"
   ]
  },
  {
   "cell_type": "markdown",
   "metadata": {
    "slideshow": {
     "slide_type": "fragment"
    }
   },
   "source": [
    "Covariates are multiplicatively related to the hazard function\n",
    "\n",
    "$$ \\lambda(t|X)= \\lambda_{0}(t)exp(\\beta_{0}X_{1}+...+\\beta_{p}X_{p}) $$\n",
    "\n",
    "- $\\lambda_{0}(t)$: is the non-parametric baseline hazard function\n",
    "- $\\lambda(t|X)$: is the expected hazard at time $t$\n"
   ]
  },
  {
   "cell_type": "markdown",
   "metadata": {
    "slideshow": {
     "slide_type": "slide"
    }
   },
   "source": [
    "Interpretting the coefficents is a matter of examining the **Hazard Ratio**:\n",
    "\n",
    "$$\\frac{\\lambda(t|x)}{\\lambda_{0}(t)} = exp(\\beta_{0}X_{1}+...+\\beta_{p}X_{p})$$\n",
    "\n"
   ]
  },
  {
   "cell_type": "markdown",
   "metadata": {
    "slideshow": {
     "slide_type": "fragment"
    }
   },
   "source": [
    "![](hazardInterpretation.png)"
   ]
  },
  {
   "cell_type": "markdown",
   "metadata": {
    "slideshow": {
     "slide_type": "notes"
    }
   },
   "source": [
    "- Cox Proportional Hazards was first published in [ ]  \n",
    "- The interest is in associating the each one of the risk factors (predictors) to the outcome -- associations are quantified by the regression coefficients \n",
    "- Cox PH gives a semi-parametric method of estimating the hazard function at time $t$ given a baseline hazard that is modified by a set of covariates\n",
    "- The fitting of these coefficients is beyond the scope of this pressentation, however it makes use a partial likelihood maximization and the Newton-Raphson method. "
   ]
  },
  {
   "cell_type": "markdown",
   "metadata": {
    "slideshow": {
     "slide_type": "slide"
    }
   },
   "source": [
    "![](hazardRatio2.png)"
   ]
  },
  {
   "cell_type": "markdown",
   "metadata": {
    "slideshow": {
     "slide_type": "notes"
    }
   },
   "source": [
    "- Pictured here is a plot of the Hazard Ratio for coefficients that were significant at the 5% level.\n",
    "- Coinfidence intervals for specific coefficients are displayed in light-blue \n",
    "- Note that coefficients with error bars overlapping the red-line (where hazard ratio = 1) should be interpretted as no effect on survival\n",
    "- The TSSTcorp server has a hazard rate equal to roughly 44x that of our baseline Toshiba server (very risky)\n",
    "- The Intel Server has a hazard rate equal to roughly 38x that of our baseline Toshiba server (very risky)"
   ]
  },
  {
   "cell_type": "markdown",
   "metadata": {
    "slideshow": {
     "slide_type": "slide"
    }
   },
   "source": [
    "![](concordanceIndex2.png)"
   ]
  },
  {
   "cell_type": "markdown",
   "metadata": {
    "slideshow": {
     "slide_type": "subslide"
    }
   },
   "source": [
    "- Concordance is a \"global\" index for validating the predictive ability of a survival model\n"
   ]
  },
  {
   "cell_type": "markdown",
   "metadata": {
    "slideshow": {
     "slide_type": "notes"
    }
   },
   "source": [
    "- It can be interpreted as the fraction of all pairs of subjects whose predicted survival times are correctly ordered among all subjects that can actually be ordered. In other words, it is the probability of concordance between the predicted and the observed survival"
   ]
  },
  {
   "cell_type": "markdown",
   "metadata": {
    "slideshow": {
     "slide_type": "notes"
    }
   },
   "source": [
    "The index of concordance is a \"global\" index for validating the predictive ability of a survival model. It is the fraction of pairs in your data, where the observation with the higher survival time has the higher probability of survival predicted by your model. As far as I remember it it equivalent to a rank correlation.\n",
    "\n",
    "The index is not calculated for every observation/subject. So the c-index can not be interpreted as the risk of a subject. High values mean that your model predicts higher probabilities of survival for higher observed survival times.\n",
    "\n",
    "If you are interested in the risk of a subject in a timeperiod t, I think you have to estimate the survival and hazard function for a given set of regressors. My main reference on this subject is Harrell (2001): Rgression Modeling Strategies, Springer"
   ]
  },
  {
   "cell_type": "markdown",
   "metadata": {},
   "source": [
    "## Conclusions\n",
    "\n",
    "- When appropriate, server/rack hardware should be exchanged for protective components\n",
    "- Surivival analysis provides a means of comparing risk factors and how they compare to your baseline"
   ]
  }
 ],
 "metadata": {
  "anaconda-cloud": {},
  "celltoolbar": "Slideshow",
  "kernelspec": {
   "display_name": "Python [default]",
   "language": "python",
   "name": "python3"
  },
  "language_info": {
   "codemirror_mode": {
    "name": "ipython",
    "version": 3
   },
   "file_extension": ".py",
   "mimetype": "text/x-python",
   "name": "python",
   "nbconvert_exporter": "python",
   "pygments_lexer": "ipython3",
   "version": "3.5.2"
  }
 },
 "nbformat": 4,
 "nbformat_minor": 2
}
